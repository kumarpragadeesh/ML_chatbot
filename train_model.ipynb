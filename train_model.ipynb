{
 "cells": [
  {
   "cell_type": "code",
   "execution_count": 1,
   "id": "6eee7736",
   "metadata": {},
   "outputs": [],
   "source": [
    "import numpy as np\n",
    "import json\n",
    "import re\n",
    "import tensorflow as tf\n",
    "import random\n",
    "import spacy\n",
    "nlp = spacy.load('en_core_web_sm')"
   ]
  },
  {
   "cell_type": "code",
   "execution_count": 2,
   "id": "aaf53060",
   "metadata": {},
   "outputs": [],
   "source": [
    "with open('intents.json') as f:\n",
    "    intents = json.load(f)"
   ]
  },
  {
   "cell_type": "code",
   "execution_count": 3,
   "id": "887bfc7f",
   "metadata": {},
   "outputs": [],
   "source": [
    "def preprocessing(line):\n",
    "    line = re.sub(r'[^a-zA-z.?!\\']', ' ', line)\n",
    "    line = re.sub(r'[ ]+', ' ', line)\n",
    "    return line"
   ]
  },
  {
   "cell_type": "code",
   "execution_count": 4,
   "id": "197ee319",
   "metadata": {},
   "outputs": [],
   "source": [
    "inputs, targets = [], []\n",
    "classes = []\n",
    "intent_doc = {}\n",
    "\n",
    "for intent in intents['intents']:\n",
    "    if intent['intent'] not in classes:\n",
    "        classes.append(intent['intent'])\n",
    "    if intent['intent'] not in intent_doc:\n",
    "        intent_doc[intent['intent']] = []\n",
    "        \n",
    "    for text in intent['text']:\n",
    "        inputs.append(preprocessing(text))\n",
    "        targets.append(intent['intent'])\n",
    "        \n",
    "    for response in intent['responses']:\n",
    "        intent_doc[intent['intent']].append(response)"
   ]
  },
  {
   "cell_type": "code",
   "execution_count": 5,
   "id": "d207aaf6",
   "metadata": {},
   "outputs": [],
   "source": [
    "def tokenize_data(input_list):\n",
    "    tokenizer = tf.keras.preprocessing.text.Tokenizer(filters='', oov_token='<unk>')\n",
    "    tokenizer.fit_on_texts(input_list)\n",
    "    input_seq = tokenizer.texts_to_sequences(input_list)\n",
    "    input_seq = tf.keras.preprocessing.sequence.pad_sequences(input_seq, padding='pre')\n",
    "    return tokenizer, input_seq\n",
    "\n",
    "# preprocess input data\n",
    "tokenizer, input_tensor = tokenize_data(inputs)"
   ]
  },
  {
   "cell_type": "code",
   "execution_count": 6,
   "id": "81ba2a42",
   "metadata": {},
   "outputs": [],
   "source": [
    "def create_categorical_target(targets):\n",
    "    word={}\n",
    "    categorical_target=[]\n",
    "    counter=0\n",
    "    for trg in targets:\n",
    "        if trg not in word:\n",
    "            word[trg]=counter\n",
    "            counter+=1\n",
    "        categorical_target.append(word[trg])\n",
    "    \n",
    "    categorical_tensor = tf.keras.utils.to_categorical(categorical_target, num_classes=len(word), dtype='int32')\n",
    "    return categorical_tensor, dict((v,k) for k, v in word.items())\n",
    "\n",
    "# preprocess output data\n",
    "target_tensor, trg_index_word = create_categorical_target(targets)"
   ]
  },
  {
   "cell_type": "code",
   "execution_count": 7,
   "id": "2cb8fc7b",
   "metadata": {},
   "outputs": [],
   "source": [
    "# hyperparameters\n",
    "epochs=50\n",
    "vocab_size=len(tokenizer.word_index) + 1\n",
    "embed_dim=512\n",
    "units=128\n",
    "target_length=target_tensor.shape[1]"
   ]
  },
  {
   "cell_type": "code",
   "execution_count": 8,
   "id": "32410ced",
   "metadata": {},
   "outputs": [
    {
     "name": "stdout",
     "output_type": "stream",
     "text": [
      "Model: \"sequential\"\n",
      "_________________________________________________________________\n",
      " Layer (type)                Output Shape              Param #   \n",
      "=================================================================\n",
      " embedding (Embedding)       (None, None, 512)         66048     \n",
      "                                                                 \n",
      " bidirectional (Bidirection  (None, 256)               656384    \n",
      " al)                                                             \n",
      "                                                                 \n",
      " dense (Dense)               (None, 128)               32896     \n",
      "                                                                 \n",
      " dropout (Dropout)           (None, 128)               0         \n",
      "                                                                 \n",
      " dense_1 (Dense)             (None, 22)                2838      \n",
      "                                                                 \n",
      "=================================================================\n",
      "Total params: 758166 (2.89 MB)\n",
      "Trainable params: 758166 (2.89 MB)\n",
      "Non-trainable params: 0 (0.00 Byte)\n",
      "_________________________________________________________________\n"
     ]
    }
   ],
   "source": [
    "# build RNN Model with tensorflow\n",
    "model = tf.keras.models.Sequential([\n",
    "    tf.keras.layers.Embedding(vocab_size, embed_dim),\n",
    "    tf.keras.layers.Bidirectional(tf.keras.layers.LSTM(units, dropout=0.2)),\n",
    "    tf.keras.layers.Dense(units, activation='relu'),\n",
    "    tf.keras.layers.Dropout(0.5),\n",
    "    tf.keras.layers.Dense(target_length, activation='softmax')\n",
    "])\n",
    "\n",
    "optimizer = tf.keras.optimizers.Adam(learning_rate=1e-2)\n",
    "model.compile(optimizer=optimizer, loss='categorical_crossentropy', metrics=['accuracy'])\n",
    "model.summary()"
   ]
  },
  {
   "cell_type": "code",
   "execution_count": 9,
   "id": "4b55dc9e",
   "metadata": {},
   "outputs": [
    {
     "name": "stdout",
     "output_type": "stream",
     "text": [
      "Epoch 1/50\n",
      "5/5 [==============================] - 12s 89ms/step - loss: 3.0936 - accuracy: 0.0769\n",
      "Epoch 2/50\n",
      "5/5 [==============================] - 0s 79ms/step - loss: 2.6555 - accuracy: 0.2028\n",
      "Epoch 3/50\n",
      "5/5 [==============================] - 0s 78ms/step - loss: 1.9206 - accuracy: 0.4126\n",
      "Epoch 4/50\n",
      "5/5 [==============================] - 0s 79ms/step - loss: 1.2294 - accuracy: 0.5874\n",
      "Epoch 5/50\n",
      "5/5 [==============================] - 0s 78ms/step - loss: 0.7577 - accuracy: 0.7622\n",
      "Epoch 6/50\n",
      "5/5 [==============================] - 0s 76ms/step - loss: 0.3863 - accuracy: 0.8881\n",
      "Epoch 7/50\n",
      "5/5 [==============================] - 0s 76ms/step - loss: 0.2494 - accuracy: 0.9161\n",
      "Epoch 8/50\n",
      "5/5 [==============================] - 0s 79ms/step - loss: 0.1195 - accuracy: 0.9510\n",
      "Epoch 9/50\n",
      "5/5 [==============================] - 0s 77ms/step - loss: 0.1246 - accuracy: 0.9580\n",
      "Epoch 10/50\n",
      "5/5 [==============================] - 0s 78ms/step - loss: 0.0601 - accuracy: 0.9720\n",
      "Epoch 11/50\n",
      "5/5 [==============================] - 0s 80ms/step - loss: 0.0302 - accuracy: 1.0000\n",
      "Epoch 12/50\n",
      "5/5 [==============================] - 0s 80ms/step - loss: 0.0183 - accuracy: 1.0000\n",
      "Epoch 13/50\n",
      "5/5 [==============================] - 0s 80ms/step - loss: 0.0165 - accuracy: 0.9930\n",
      "Epoch 14/50\n",
      "5/5 [==============================] - 0s 79ms/step - loss: 0.0058 - accuracy: 1.0000\n",
      "Epoch 15/50\n",
      "5/5 [==============================] - 0s 80ms/step - loss: 0.0098 - accuracy: 1.0000\n",
      "Epoch 16/50\n",
      "5/5 [==============================] - 0s 80ms/step - loss: 0.0037 - accuracy: 1.0000\n",
      "Epoch 17/50\n",
      "5/5 [==============================] - 0s 80ms/step - loss: 0.0061 - accuracy: 1.0000\n",
      "Epoch 18/50\n",
      "5/5 [==============================] - 0s 79ms/step - loss: 0.0033 - accuracy: 1.0000\n",
      "Epoch 19/50\n",
      "5/5 [==============================] - 0s 82ms/step - loss: 0.0047 - accuracy: 1.0000\n",
      "Epoch 20/50\n",
      "5/5 [==============================] - 0s 82ms/step - loss: 0.0046 - accuracy: 1.0000\n",
      "Epoch 21/50\n",
      "5/5 [==============================] - 0s 81ms/step - loss: 0.0021 - accuracy: 1.0000\n",
      "Epoch 22/50\n",
      "5/5 [==============================] - 0s 81ms/step - loss: 0.0208 - accuracy: 0.9930\n",
      "Epoch 23/50\n",
      "5/5 [==============================] - 0s 96ms/step - loss: 0.0083 - accuracy: 1.0000\n",
      "Epoch 24/50\n",
      "5/5 [==============================] - 0s 91ms/step - loss: 0.0052 - accuracy: 1.0000\n",
      "Epoch 25/50\n",
      "5/5 [==============================] - 0s 82ms/step - loss: 0.0038 - accuracy: 1.0000\n"
     ]
    },
    {
     "data": {
      "text/plain": [
       "<keras.src.callbacks.History at 0x2b1bfe5b190>"
      ]
     },
     "execution_count": 9,
     "metadata": {},
     "output_type": "execute_result"
    }
   ],
   "source": [
    "early_stop = tf.keras.callbacks.EarlyStopping(monitor='loss', patience=4)\n",
    "\n",
    "# train the model\n",
    "model.fit(input_tensor, target_tensor, epochs=epochs, callbacks=[early_stop])"
   ]
  },
  {
   "cell_type": "code",
   "execution_count": 10,
   "id": "7bb356f4",
   "metadata": {},
   "outputs": [],
   "source": [
    "# Save the trained model\n",
    "model.save('chatbot_model.keras')"
   ]
  }
 ],
 "metadata": {
  "kernelspec": {
   "display_name": "Python 3 (ipykernel)",
   "language": "python",
   "name": "python3"
  },
  "language_info": {
   "codemirror_mode": {
    "name": "ipython",
    "version": 3
   },
   "file_extension": ".py",
   "mimetype": "text/x-python",
   "name": "python",
   "nbconvert_exporter": "python",
   "pygments_lexer": "ipython3",
   "version": "3.11.3"
  }
 },
 "nbformat": 4,
 "nbformat_minor": 5
}
